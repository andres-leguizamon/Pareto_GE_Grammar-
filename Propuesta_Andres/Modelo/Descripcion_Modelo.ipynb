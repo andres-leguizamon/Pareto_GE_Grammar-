{
 "cells": [
  {
   "cell_type": "markdown",
   "metadata": {},
   "source": [
    "# Descripción"
   ]
  },
  {
   "cell_type": "markdown",
   "metadata": {},
   "source": [
    "El módulo de interpretación depende de implementar un modelo basado en agentes que realice el proceso de Intercambio, este modelo estará compuesto a su vez de módulos que se encarguen de diferentes lógicas y que luego serán incorporados al modelo principal, esto permitirá trabajar de forma modular"
   ]
  },
  {
   "cell_type": "markdown",
   "metadata": {},
   "source": [
    "## Descripción Módulos del Modelo \n"
   ]
  },
  {
   "cell_type": "markdown",
   "metadata": {},
   "source": [
    "### Agentes"
   ]
  },
  {
   "cell_type": "markdown",
   "metadata": {},
   "source": [
    "El módulo de agentes define las clases de agentes así como sus atributos y métodos para utilizar.\n",
    " \n",
    "El archivo asociado es \"agentes.py\""
   ]
  },
  {
   "cell_type": "markdown",
   "metadata": {},
   "source": [
    "### Módulo De registro "
   ]
  },
  {
   "cell_type": "markdown",
   "metadata": {},
   "source": [
    "En el módulo de registro se generarán los métodos para crear la matriz de transacciones agregadas, el registro de las dotaciones y utilidades de los agentes para cada paso \n",
    "y toda la lógica que este asociada a realizar el registro de transacciones \n",
    "\n",
    "El archivo asociado es \"registroTransacciones.py\""
   ]
  },
  {
   "cell_type": "markdown",
   "metadata": {},
   "source": [
    "### Módulo de Ejecución\n",
    "\n",
    "En este módulo se encarga de la lógica detrás de implementar transacciones.  \n",
    "\n",
    "\n",
    "El archivo asocaido es \"ejecutarTransacciones.py\"\n"
   ]
  },
  {
   "cell_type": "markdown",
   "metadata": {
    "vscode": {
     "languageId": "plaintext"
    }
   },
   "source": [
    "### Módulo de Valoración"
   ]
  },
  {
   "cell_type": "markdown",
   "metadata": {},
   "source": [
    "Este módulo se encarga de implementar la valoración para cada step y la implementación de las funciones de bienestar social \n",
    "\n",
    "El archivo asociado es \"valoracion.py\""
   ]
  }
 ],
 "metadata": {
  "language_info": {
   "name": "python"
  }
 },
 "nbformat": 4,
 "nbformat_minor": 2
}
