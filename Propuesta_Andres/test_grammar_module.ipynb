{
 "cells": [
  {
   "cell_type": "markdown",
   "metadata": {},
   "source": [
    "### Descripción \n"
   ]
  },
  {
   "cell_type": "markdown",
   "metadata": {},
   "source": [
    "El objetivo de este cuaderno es hacer una ilustración pequeña de como utilizar las funciones y objetos generados en el módulo grammar.py "
   ]
  },
  {
   "cell_type": "markdown",
   "metadata": {},
   "source": [
    "### Desarrollo de la prueba \n"
   ]
  },
  {
   "cell_type": "code",
   "execution_count": 6,
   "metadata": {},
   "outputs": [],
   "source": [
    "# Importamos la función y el objeto que necesitamos de grammar_module.py \n",
    "\n",
    "from grammar_module import text_to_tuple"
   ]
  },
  {
   "cell_type": "code",
   "execution_count": 1,
   "metadata": {},
   "outputs": [],
   "source": [
    "### Definir una cadena de transacciones de prueba \n",
    "\n",
    "cadena_transacciones_test = \"\"\"\n",
    "Trade(Alice,Bob,Xvalue(1),Yvalue(1))Trade(Charles,Bob,Zvalue(1),Yvalue(1))Trade(Alice,Charles,Zvalue(8),Yvalue(1))\n",
    "\"\"\"\n",
    "\n",
    "cadena_transacciones_test2 = \"Trade(Alice,Alice,Xvalue(78.7),Yvalue(64.5))Trade(Alice,Alice,Xvalue(46.0),Yvalue(94.5))Trade(Alice,Alice,Xvalue(32.6),Yvalue(15.9))Trade(Alice,Alice,Xvalue(21.4),Yvalue(51.9))\""
   ]
  },
  {
   "cell_type": "code",
   "execution_count": 7,
   "metadata": {},
   "outputs": [
    {
     "name": "stdout",
     "output_type": "stream",
     "text": [
      "[('Alice', 'Alice', 'X', 78.7, 'Y', 64.5), ('Alice', 'Alice', 'X', 46.0, 'Y', 94.5), ('Alice', 'Alice', 'X', 32.6, 'Y', 15.9), ('Alice', 'Alice', 'X', 21.4, 'Y', 51.9)]\n"
     ]
    }
   ],
   "source": [
    "### Convertir el str con las transacciones en una tupla que pueda entender el modelo usando la funcion \n",
    "\n",
    "print(text_to_tuple(cadena_transacciones_test2))"
   ]
  }
 ],
 "metadata": {
  "kernelspec": {
   "display_name": "Python 3",
   "language": "python",
   "name": "python3"
  },
  "language_info": {
   "codemirror_mode": {
    "name": "ipython",
    "version": 3
   },
   "file_extension": ".py",
   "mimetype": "text/x-python",
   "name": "python",
   "nbconvert_exporter": "python",
   "pygments_lexer": "ipython3",
   "version": "3.11.10"
  }
 },
 "nbformat": 4,
 "nbformat_minor": 2
}
