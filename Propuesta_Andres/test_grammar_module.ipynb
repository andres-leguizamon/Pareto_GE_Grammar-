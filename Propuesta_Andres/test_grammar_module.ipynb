{
 "cells": [
  {
   "cell_type": "markdown",
   "metadata": {},
   "source": [
    "### Descripción \n"
   ]
  },
  {
   "cell_type": "markdown",
   "metadata": {},
   "source": [
    "El objetivo de este cuaderno es hacer una demostración pequeña de como utilizar las funciones y objetos generados en el módulo grammar.py "
   ]
  },
  {
   "cell_type": "markdown",
   "metadata": {},
   "source": [
    "### Desarrollo de la prueba \n"
   ]
  },
  {
   "cell_type": "code",
   "execution_count": 1,
   "metadata": {},
   "outputs": [],
   "source": [
    "# Importamos la función y el objeto que necesitamos de grammar.py \n",
    "\n",
    "from grammar import text_to_tuple"
   ]
  },
  {
   "cell_type": "code",
   "execution_count": 2,
   "metadata": {},
   "outputs": [],
   "source": [
    "### Definir una cadena de transacciones de prueba \n",
    "\n",
    "cadena_transacciones_test = \"\"\"\n",
    "Trade(Alice,Bob,Xvalue(1),Yvalue(1))Trade(Charles,Bob,Zvalue(1),Yvalue(1))Trade(Alice,Charles,Zvalue(8),Yvalue(1))\n",
    "\"\"\""
   ]
  },
  {
   "cell_type": "code",
   "execution_count": 3,
   "metadata": {},
   "outputs": [
    {
     "name": "stdout",
     "output_type": "stream",
     "text": [
      "[('Alice', 'Bob', 'X', 1.0, 'Y', 1.0), ('Charles', 'Bob', 'Z', 1.0, 'Y', 1.0), ('Alice', 'Charles', 'Z', 8.0, 'Y', 1.0)]\n"
     ]
    }
   ],
   "source": [
    "### Convertir el str con las transacciones en una tupla que pueda entender el modelo usando la funcion \n",
    "\n",
    "print(text_to_tuple(cadena_transacciones_test))"
   ]
  }
 ],
 "metadata": {
  "kernelspec": {
   "display_name": "Python 3",
   "language": "python",
   "name": "python3"
  },
  "language_info": {
   "codemirror_mode": {
    "name": "ipython",
    "version": 3
   },
   "file_extension": ".py",
   "mimetype": "text/x-python",
   "name": "python",
   "nbconvert_exporter": "python",
   "pygments_lexer": "ipython3",
   "version": "3.11.10"
  }
 },
 "nbformat": 4,
 "nbformat_minor": 2
}
